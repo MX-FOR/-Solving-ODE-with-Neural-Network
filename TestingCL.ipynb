{
  "nbformat": 4,
  "nbformat_minor": 0,
  "metadata": {
    "colab": {
      "provenance": [],
      "authorship_tag": "ABX9TyMpfi7ZfJ0ryF39GKUTNfTm",
      "include_colab_link": true
    },
    "kernelspec": {
      "name": "python3",
      "display_name": "Python 3"
    },
    "language_info": {
      "name": "python"
    }
  },
  "cells": [
    {
      "cell_type": "markdown",
      "metadata": {
        "id": "view-in-github",
        "colab_type": "text"
      },
      "source": [
        "<a href=\"https://colab.research.google.com/github/MX-FOR/Colab-Notebooks/blob/main/TestingCL.ipynb\" target=\"_parent\"><img src=\"https://colab.research.google.com/assets/colab-badge.svg\" alt=\"Open In Colab\"/></a>"
      ]
    },
    {
      "cell_type": "markdown",
      "source": [
        "## Animación y Análisis de Moléculas\n",
        "\n",
        "Este notebook nos ayuda a entender como el Análisis de descomposición de la energía (EDA) predice la estructura molecular para `constancia de acoplamiento escalar`, definimos la estructura de las moléculas como coordenadas `x,y,z` en 3D, después debemos predecir la \"constante de acoplamiento escalar\" entre dos átomos específicos dentro de una molécula.\n",
        "\n",
        "Cada gráfico muestra un átomo de hidrógeno en coordenadas (0,0,0) y un átomo de nitrógeno en (1,0,0), aprendemos del (EDA) que los átomos adicionales que se conectan al nitrógeno afectan al valor de la `sc_constante`, normalmente el nitrógeno se conecta con 3 átomos. Así que después de conectarse con el hidrógeno (el original), lo más frecuente es que se empareje con 2 más, la distancia del enlace entre el hidrógeno y el nitrógeno originales se correlaciona con la `constante_sc`. También las distancias a los dos átomos adicionales con los que se conecta el nitrógeno ayudan a predecir la `sc_constante`."
      ],
      "metadata": {
        "id": "6sux4paCoPAU"
      }
    },
    {
      "cell_type": "code",
      "source": [
        "import numpy as np, pandas as pd, sys, time\n",
        "from matplotlib.animation import ArtistAnimation\n",
        "import seaborn as sns\n",
        "import matplotlib.pyplot as plt\n",
        "import matplotlib.patches as mpatches\n",
        "from IPython.display import Image, display\n",
        "import random, os, gc\n",
        "import lightgbm as lgb "
      ],
      "metadata": {
        "id": "CrJqgG1ZoNVC"
      },
      "execution_count": 2,
      "outputs": []
    },
    {
      "cell_type": "code",
      "source": [],
      "metadata": {
        "id": "90rArUlbogNx"
      },
      "execution_count": null,
      "outputs": []
    }
  ]
}