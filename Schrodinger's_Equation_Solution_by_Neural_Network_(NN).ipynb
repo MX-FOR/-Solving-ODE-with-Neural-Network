{
  "cells": [
    {
      "cell_type": "code",
      "execution_count": 1,
      "metadata": {
        "collapsed": true,
        "id": "BdIvlob_vA60"
      },
      "outputs": [],
      "source": [
        "import autograd.numpy as np\n",
        "from autograd import grad\n",
        "import autograd.numpy.random as npr\n",
        "\n",
        "from matplotlib import pyplot as plt"
      ]
    },
    {
      "cell_type": "code",
      "execution_count": 2,
      "metadata": {
        "collapsed": true,
        "id": "4u6LOOpbvA65"
      },
      "outputs": [],
      "source": [
        "nx = 20\n",
        "dx = 1. / nx\n",
        "n = 1\n",
        "k = n*np.pi\n",
        "A = np.sqrt(2)"
      ]
    },
    {
      "cell_type": "code",
      "execution_count": 3,
      "metadata": {
        "collapsed": true,
        "id": "A2HmdRTgvA66"
      },
      "outputs": [],
      "source": [
        "def f(x, psy, dpsy):\n",
        "    '''\n",
        "        d2(psy)/dx2 = f(x, dpsy/dx, psy)\n",
        "        This is f() function on the right\n",
        "    '''\n",
        "    return -(k**2)*psy\n",
        "\n",
        "\n",
        "def psy_analytic(x):\n",
        "    '''\n",
        "        Analytical solution of current problem\n",
        "    '''\n",
        "    return A * np.sin(k*x)"
      ]
    },
    {
      "cell_type": "code",
      "execution_count": 4,
      "metadata": {
        "collapsed": true,
        "id": "_s-_8Re0vA67"
      },
      "outputs": [],
      "source": [
        "x_space = np.linspace(0, 1, nx)\n",
        "y_space = psy_analytic(x_space)"
      ]
    },
    {
      "cell_type": "code",
      "execution_count": 5,
      "metadata": {
        "collapsed": true,
        "id": "R682Is00vA67"
      },
      "outputs": [],
      "source": [
        "def sigmoid(x):\n",
        "    return 1. / (1. + np.exp(-x))\n",
        "\n",
        "\n",
        "def neural_network(W, x):\n",
        "    a1 = sigmoid(np.dot(x, W[0]))\n",
        "    return np.dot(a1, W[1])\n",
        "\n",
        "\n",
        "def neural_network_x(x):\n",
        "    a1 = sigmoid(np.dot(x, W[0]))\n",
        "    return np.dot(a1, W[1])\n",
        "\n",
        "\n",
        "def psy_trial(xi, net_out):\n",
        "    '''\n",
        "    Using Initial Conditions psy(0) = 0, d(psy)/dx (0) = Pi * A \n",
        "    '''\n",
        "    return (np.pi*A)*xi + (xi**2)*net_out"
      ]
    },
    {
      "cell_type": "code",
      "execution_count": 6,
      "metadata": {
        "collapsed": true,
        "id": "kiXPtRRtvA68"
      },
      "outputs": [],
      "source": [
        "psy_grad = grad(psy_trial)\n",
        "psy_grad2 = grad(psy_grad)"
      ]
    },
    {
      "cell_type": "code",
      "execution_count": 7,
      "metadata": {
        "collapsed": true,
        "id": "BZGFNjo3vA69"
      },
      "outputs": [],
      "source": [
        "def loss_function(W, x):\n",
        "    loss_sum = 0.\n",
        "\n",
        "    for xi in x:\n",
        "        net_out = neural_network(W, xi)[0][0]\n",
        "\n",
        "        net_out_d = grad(neural_network_x)(xi)\n",
        "        net_out_dd = grad(grad(neural_network_x))(xi)\n",
        "\n",
        "        psy_t = psy_trial(xi, net_out)\n",
        "\n",
        "        gradient_of_trial = psy_grad(xi, net_out)\n",
        "        second_gradient_of_trial = psy_grad2(xi, net_out)\n",
        "\n",
        "        func = f(xi, psy_t, gradient_of_trial)  # right part function\n",
        "\n",
        "        err_sqr = (second_gradient_of_trial - func) ** 2\n",
        "        loss_sum += err_sqr\n",
        "\n",
        "    return loss_sum"
      ]
    },
    {
      "cell_type": "code",
      "execution_count": 8,
      "metadata": {
        "colab": {
          "base_uri": "https://localhost:8080/"
        },
        "id": "8p3FJ4cVvA6-",
        "outputId": "8eb9b348-d5e2-409a-fbe0-48f3a5d025bf"
      },
      "outputs": [
        {
          "output_type": "stream",
          "name": "stdout",
          "text": [
            "720.4595363064915\n"
          ]
        }
      ],
      "source": [
        "W = [npr.randn(1, 10), npr.randn(10, 1)]\n",
        "lmb = 0.001\n",
        "\n",
        "for i in range(50):\n",
        "    loss_grad =  grad(loss_function)(W, x_space)\n",
        "\n",
        "    W[0] = W[0] - lmb * loss_grad[0]\n",
        "    W[1] = W[1] - lmb * loss_grad[1]\n",
        "\n",
        "print (loss_function(W, x_space))\n",
        "res = [psy_trial(xi, neural_network(W, xi)[0][0]) for xi in x_space]"
      ]
    },
    {
      "cell_type": "code",
      "execution_count": 9,
      "metadata": {
        "colab": {
          "base_uri": "https://localhost:8080/",
          "height": 295
        },
        "id": "zuZgQy5vvA6_",
        "outputId": "8aced95b-d38f-45b3-bfc3-1e3710405f72"
      },
      "outputs": [
        {
          "output_type": "display_data",
          "data": {
            "text/plain": [
              "<Figure size 432x288 with 1 Axes>"
            ],
            "image/png": "[encoded data removed]"
          },
          "metadata": {
            "needs_background": "light"
          }
        }
      ],
      "source": [
        "plt.figure()\n",
        "plt.plot(x_space, y_space,'b', label='Analytical Solution')\n",
        "plt.plot(x_space, res, 'orange', label='Approach by NN')\n",
        "plt.title('Solution of Schrodingers equation for one particle in a 1-dimensional box.')\n",
        "plt.xlabel('x')\n",
        "plt.ylabel(r'$\\Psi(x)$')\n",
        "plt.legend(loc='best', shadow=False)\n",
        "plt.show()"
      ]
    },
    {
      "cell_type": "code",
      "execution_count": 9,
      "metadata": {
        "collapsed": true,
        "id": "cqXdtDovvA7A"
      },
      "outputs": [],
      "source": []
    }
  ],
  "metadata": {
    "kernelspec": {
      "display_name": "Python 3",
      "language": "python",
      "name": "python3"
    },
    "language_info": {
      "codemirror_mode": {
        "name": "ipython",
        "version": 3
      },
      "file_extension": ".py",
      "mimetype": "text/x-python",
      "name": "python",
      "nbconvert_exporter": "python",
      "pygments_lexer": "ipython3",
      "version": "3.6.3"
    },
    "colab": {
      "provenance": []
    }
  },
  "nbformat": 4,
  "nbformat_minor": 0
}